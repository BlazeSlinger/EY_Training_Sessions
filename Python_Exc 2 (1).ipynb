{
 "cells": [
  {
   "cell_type": "code",
   "execution_count": 1,
   "metadata": {},
   "outputs": [
    {
     "name": "stdout",
     "output_type": "stream",
     "text": [
      "{'harshit': 11700.0, 'rohit': 2.3, 'tushar': 12360.0, 'poojan': 15750.0, 'shweta': 19055.0, 'rashi': 21400.0, 'tanya': 22575.0, 'meenal': 23540.0, 'rakesh': 8560.0, 'mahesh': 7605.0}\n"
     ]
    }
   ],
   "source": [
    "emp = ['harshit','rohit','tushar','poojan','shweta','rashi','tanya','meenal','rakesh','mahesh']\n",
    "sal = (10000,11000,12000,15000,18500,20000,21500,22000,8000,6500)\n",
    "rat = (10,2.3,4.5,5.5,3,7,6.2,8.2,7.5,9)\n",
    "emp_dictionary = dict()\n",
    "new_sal = []\n",
    "for i in range(len(emp)):\n",
    "    if rat[i] >= 9:\n",
    "        inc = sal[i] + (sal[i]*.07) + (sal[i]*.1)\n",
    "        new_sal.append(inc)\n",
    "    elif rat[i] < 9 and rat[i] >=7:\n",
    "        inc = sal[i] + (sal[i]*.07)\n",
    "        new_sal.append(inc)\n",
    "    elif rat[i] < 7 and rat[i] >=5:\n",
    "        inc = sal[i] + (sal[i]*.05)\n",
    "        new_sal.append(inc)\n",
    "    elif rat[i] < 5 and rat[i] >=3:\n",
    "        inc = sal[i] + (sal[i]*.03)\n",
    "        new_sal.append(inc)\n",
    "    elif rat[i] < 3:\n",
    "        new_sal.append(rat[i])\n",
    "\n",
    "for i in range(len(emp)):        \n",
    "    emp_dictionary[emp[i]] = new_sal[i]\n",
    "print(emp_dictionary)"
   ]
  },
  {
   "cell_type": "code",
   "execution_count": null,
   "metadata": {},
   "outputs": [],
   "source": []
  }
 ],
 "metadata": {
  "kernelspec": {
   "display_name": "Python 3",
   "language": "python",
   "name": "python3"
  },
  "language_info": {
   "codemirror_mode": {
    "name": "ipython",
    "version": 3
   },
   "file_extension": ".py",
   "mimetype": "text/x-python",
   "name": "python",
   "nbconvert_exporter": "python",
   "pygments_lexer": "ipython3",
   "version": "3.7.6"
  }
 },
 "nbformat": 4,
 "nbformat_minor": 4
}
