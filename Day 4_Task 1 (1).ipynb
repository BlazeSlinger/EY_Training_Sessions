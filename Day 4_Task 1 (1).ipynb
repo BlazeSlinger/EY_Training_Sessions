{
 "cells": [
  {
   "cell_type": "code",
   "execution_count": 6,
   "metadata": {},
   "outputs": [
    {
     "data": {
      "text/plain": [
       "array([0., 0., 0., 0., 5., 0., 0., 0., 0., 0.])"
      ]
     },
     "execution_count": 6,
     "metadata": {},
     "output_type": "execute_result"
    }
   ],
   "source": [
    "#tast 1\n",
    "import numpy as np\n",
    "x = np.zeros(10)\n",
    "x[4] = 5\n",
    "x"
   ]
  },
  {
   "cell_type": "code",
   "execution_count": 10,
   "metadata": {},
   "outputs": [
    {
     "data": {
      "text/plain": [
       "array([10, 11, 12, 13, 14, 15, 16, 17, 18, 19, 20, 21, 22, 23, 24, 25, 26,\n",
       "       27, 28, 29, 30, 31, 32, 33, 34, 35, 36, 37, 38, 39, 40, 41, 42, 43,\n",
       "       44, 45, 46, 47, 48, 49])"
      ]
     },
     "execution_count": 10,
     "metadata": {},
     "output_type": "execute_result"
    }
   ],
   "source": [
    "#Task 2\n",
    "x = np.arange(10,50)\n",
    "x"
   ]
  },
  {
   "cell_type": "code",
   "execution_count": 14,
   "metadata": {},
   "outputs": [
    {
     "data": {
      "text/plain": [
       "array([9, 8, 7, 6, 5, 4, 3, 2, 1, 0])"
      ]
     },
     "execution_count": 14,
     "metadata": {},
     "output_type": "execute_result"
    }
   ],
   "source": [
    "#Task 3\n",
    "x = np.arange(0,10)\n",
    "rev_x = np.flip(x)\n",
    "rev_x"
   ]
  },
  {
   "cell_type": "code",
   "execution_count": 15,
   "metadata": {},
   "outputs": [
    {
     "data": {
      "text/plain": [
       "array([[0, 1, 2],\n",
       "       [3, 4, 5],\n",
       "       [6, 7, 8]])"
      ]
     },
     "execution_count": 15,
     "metadata": {},
     "output_type": "execute_result"
    }
   ],
   "source": [
    "#Task 4\n",
    "x = np.arange(9).reshape(3,3)\n",
    "x"
   ]
  },
  {
   "cell_type": "code",
   "execution_count": 17,
   "metadata": {},
   "outputs": [
    {
     "data": {
      "text/plain": [
       "(array([0, 1, 4]),)"
      ]
     },
     "execution_count": 17,
     "metadata": {},
     "output_type": "execute_result"
    }
   ],
   "source": [
    "#Task 5\n",
    "x = [1,2,0,0,4,0]\n",
    "x_nonzero = np.nonzero(x)\n",
    "x_nonzero"
   ]
  },
  {
   "cell_type": "code",
   "execution_count": 38,
   "metadata": {},
   "outputs": [
    {
     "data": {
      "text/plain": [
       "array([[[0.90983107, 0.30534844, 0.54144267],\n",
       "        [0.56237049, 0.85984248, 0.45257985],\n",
       "        [0.36723118, 0.8116147 , 0.90254208]],\n",
       "\n",
       "       [[0.99372224, 0.86309751, 0.76565427],\n",
       "        [0.15881008, 0.8157127 , 0.17405437],\n",
       "        [0.83849592, 0.17039807, 0.03240323]],\n",
       "\n",
       "       [[0.32043602, 0.08784844, 0.54564978],\n",
       "        [0.90475846, 0.0675066 , 0.39456599],\n",
       "        [0.82294834, 0.2295724 , 0.71802084]]])"
      ]
     },
     "execution_count": 38,
     "metadata": {},
     "output_type": "execute_result"
    }
   ],
   "source": [
    "#Task 6\n",
    "x = np.random.rand(3,3,3)\n",
    "x"
   ]
  },
  {
   "cell_type": "code",
   "execution_count": 37,
   "metadata": {},
   "outputs": [
    {
     "data": {
      "text/plain": [
       "(array([[0.5141126 , 0.63107723, 0.57314969, 0.76543644, 0.47398622,\n",
       "         0.31266097, 0.12106352, 0.36163209, 0.90331357, 0.44399297],\n",
       "        [0.27301991, 0.30260367, 0.94820655, 0.75491652, 0.12835942,\n",
       "         0.3671316 , 0.35471283, 0.92881735, 0.92220782, 0.27475439],\n",
       "        [0.22123111, 0.73055168, 0.60771319, 0.5374005 , 0.9237535 ,\n",
       "         0.77140763, 0.67669715, 0.64241579, 0.76180182, 0.40999365],\n",
       "        [0.48748494, 0.59995445, 0.79069782, 0.55682391, 0.79007988,\n",
       "         0.2580939 , 0.24241924, 0.33784763, 0.87573638, 0.723136  ],\n",
       "        [0.12940972, 0.4731376 , 0.9006526 , 0.01026225, 0.88785146,\n",
       "         0.84052157, 0.36864277, 0.56183585, 0.40179945, 0.69654552],\n",
       "        [0.31203956, 0.22610365, 0.7123854 , 0.047699  , 0.86808604,\n",
       "         0.24773079, 0.43545747, 0.13395285, 0.78479777, 0.09424527],\n",
       "        [0.6942993 , 0.76918678, 0.16380216, 0.1715819 , 0.23775185,\n",
       "         0.0973439 , 0.88518624, 0.19767599, 0.7708997 , 0.07912155],\n",
       "        [0.48771197, 0.00918187, 0.97651959, 0.59619819, 0.75200575,\n",
       "         0.45165421, 0.92904457, 0.20237405, 0.96040501, 0.31546563],\n",
       "        [0.8869141 , 0.65338184, 0.44858467, 0.43797374, 0.27363929,\n",
       "         0.89807431, 0.63232408, 0.18295169, 0.99668448, 0.78424539],\n",
       "        [0.13744367, 0.41063088, 0.30522621, 0.32124782, 0.31267268,\n",
       "         0.48294695, 0.30236159, 0.0084455 , 0.81264968, 0.54549912]]),\n",
       " 0.00844549965847985,\n",
       " 0.9966844787111506)"
      ]
     },
     "execution_count": 37,
     "metadata": {},
     "output_type": "execute_result"
    }
   ],
   "source": [
    "#Task 7\n",
    "x = np.random.rand(10,10)\n",
    "x_min = np.amin(x)\n",
    "x_max = np.amax(x)\n",
    "x, x_min, x_max"
   ]
  },
  {
   "cell_type": "code",
   "execution_count": 33,
   "metadata": {},
   "outputs": [
    {
     "data": {
      "text/plain": [
       "array([[1., 1., 1., 1.],\n",
       "       [1., 0., 0., 1.],\n",
       "       [1., 0., 0., 1.],\n",
       "       [1., 1., 1., 1.]])"
      ]
     },
     "execution_count": 33,
     "metadata": {},
     "output_type": "execute_result"
    }
   ],
   "source": [
    "#Task 8\n",
    "x = np.ones((4,4))\n",
    "x[1:-1,1:-1] = 0\n",
    "x"
   ]
  },
  {
   "cell_type": "code",
   "execution_count": null,
   "metadata": {},
   "outputs": [],
   "source": []
  }
 ],
 "metadata": {
  "kernelspec": {
   "display_name": "Python 3",
   "language": "python",
   "name": "python3"
  },
  "language_info": {
   "codemirror_mode": {
    "name": "ipython",
    "version": 3
   },
   "file_extension": ".py",
   "mimetype": "text/x-python",
   "name": "python",
   "nbconvert_exporter": "python",
   "pygments_lexer": "ipython3",
   "version": "3.7.6"
  }
 },
 "nbformat": 4,
 "nbformat_minor": 4
}
