{
 "cells": [
  {
   "cell_type": "code",
   "execution_count": 7,
   "metadata": {},
   "outputs": [
    {
     "data": {
      "text/plain": [
       "[('Ravi', 4), ('Sanjeev', 7), ('John', 4)]"
      ]
     },
     "execution_count": 7,
     "metadata": {},
     "output_type": "execute_result"
    }
   ],
   "source": [
    "names = ['Ravi', 'Sanjeev', 'John']\n",
    "a = [(i,len(i)) for i in names]\n",
    "a"
   ]
  },
  {
   "cell_type": "code",
   "execution_count": 33,
   "metadata": {},
   "outputs": [
    {
     "data": {
      "text/plain": [
       "['1984', '13', '1000']"
      ]
     },
     "execution_count": 33,
     "metadata": {},
     "output_type": "execute_result"
    }
   ],
   "source": [
    "test_str = 'In 1984 there were 13 instances of a protest with over 1000 people attending'\n",
    "\n",
    "def getNumber(text):\n",
    "    list1 = []\n",
    "    for i in text.split():\n",
    "        if i.isdigit():\n",
    "            list1.append(i)\n",
    "    return list1\n",
    "\n",
    "getNumber(test_str)"
   ]
  },
  {
   "cell_type": "code",
   "execution_count": 77,
   "metadata": {},
   "outputs": [
    {
     "name": "stdout",
     "output_type": "stream",
     "text": [
      "Welcome to Spencers!!\n",
      "\n",
      "['1.Milk', '2.Bread', '3.Eggs', '4.Coke', '5.Butter']\n"
     ]
    },
    {
     "name": "stdin",
     "output_type": "stream",
     "text": [
      "Please select the item you want 2\n"
     ]
    },
    {
     "name": "stdout",
     "output_type": "stream",
     "text": [
      "Your item : Bread has been ordered. Your Bill is: Rs.45\n",
      "Remaining Bread quantity : 1\n"
     ]
    },
    {
     "name": "stdin",
     "output_type": "stream",
     "text": [
      "Do you wish to continue : (y/n) y\n",
      "Please enter the next item you want: 1.Milk, 2.Bread, 3.Eggs, 4.Coke, 5.Butter 3\n"
     ]
    },
    {
     "name": "stdout",
     "output_type": "stream",
     "text": [
      "Your item : Eggs has been ordered. Your Bill is: Rs.120\n",
      "Remaining Eggs quantity : 0\n"
     ]
    },
    {
     "name": "stdin",
     "output_type": "stream",
     "text": [
      "Do you wish to continue : (y/n) y\n",
      "Please enter the next item you want: 1.Milk, 2.Bread, 3.Eggs, 4.Coke, 5.Butter 4\n"
     ]
    },
    {
     "name": "stdout",
     "output_type": "stream",
     "text": [
      "Your item : Coke has been ordered. Your Bill is: Rs.40\n",
      "Remaining Coke quantity : 9\n"
     ]
    },
    {
     "name": "stdin",
     "output_type": "stream",
     "text": [
      "Do you wish to continue : (y/n) y\n",
      "Please enter the next item you want: 1.Milk, 2.Bread, 3.Eggs, 4.Coke, 5.Butter 5\n"
     ]
    },
    {
     "name": "stdout",
     "output_type": "stream",
     "text": [
      "Your item : Butter has been ordered. Your Bill is: Rs.200\n",
      "Remaining Butter quantity : 3\n"
     ]
    },
    {
     "name": "stdin",
     "output_type": "stream",
     "text": [
      "Do you wish to continue : (y/n) y\n",
      "Please enter the next item you want: 1.Milk, 2.Bread, 3.Eggs, 4.Coke, 5.Butter 1\n"
     ]
    },
    {
     "name": "stdout",
     "output_type": "stream",
     "text": [
      "Your item : Milk has been ordered. Your Bill is: Rs.28\n",
      "Remaining Milk quantity : 4\n"
     ]
    },
    {
     "name": "stdin",
     "output_type": "stream",
     "text": [
      "Do you wish to continue : (y/n) n\n"
     ]
    }
   ],
   "source": [
    "print(\"Welcome to Spencers!!\")\n",
    "print()\n",
    "item_list_disp = ['1.Milk','2.Bread','3.Eggs','4.Coke','5.Butter']\n",
    "print(item_list_disp)\n",
    "item_list = ['Milk','Bread','Eggs','Coke','Butter']\n",
    "a = input(\"Please select the item you want\")\n",
    "\n",
    "items = {'Milk' : ['Rs.28','500ml',5], 'Bread': ['Rs.45','300gms',2], 'Eggs': ['Rs.120','8pcs',1],\n",
    "         'Coke': ['Rs.40','750ml',10], 'Butter': ['Rs.200','250gms',4]}\n",
    "\n",
    "def check_item(x):\n",
    "    global item_list,items\n",
    "    x = int(x) - 1\n",
    "    choice = item_list[x] \n",
    "    item_quant = items[choice][2]\n",
    "    return item_quant\n",
    "    \n",
    "def order_item(x):\n",
    "    global item_list,items\n",
    "    x = int(x) - 1\n",
    "    choice = item_list[x] \n",
    "    item_quant = int(items[choice][2]) \n",
    "    items[choice][2] = item_quant - 1\n",
    "    print(\"Your item : {} has been ordered. Your Bill is: {}\".format(choice,items[choice][0]))\n",
    "    print(\"Remaining {} quantity : {}\".format(choice,items[choice][2]))\n",
    "    with open(\"bill.txt\", \"a\") as f:\n",
    "        f.write(\"Your item : {} has been ordered. Your Bill is: {} \\n\".format(choice,items[choice][0]))\n",
    "    \n",
    "    \n",
    "    \n",
    "if item_available > 0:\n",
    "    order_item(a)\n",
    "else:\n",
    "    print(\"Sorry, the item is not available at the moment\")\n",
    "    \n",
    "end = 0\n",
    "while end != 1:\n",
    "    cont = input(\"Do you wish to continue : (y/n)\")\n",
    "    if cont == \"y\":\n",
    "        c = int(input('Please enter the next item you want: 1.Milk, 2.Bread, 3.Eggs, 4.Coke, 5.Butter'))\n",
    "        d = check_item(c)\n",
    "        if d > 0:\n",
    "            order_item(c)\n",
    "        else:\n",
    "            print(\"Sorry, the item is not available at the moment\")\n",
    "    else:\n",
    "        end = 1\n"
   ]
  },
  {
   "cell_type": "code",
   "execution_count": 79,
   "metadata": {},
   "outputs": [
    {
     "data": {
      "text/plain": [
       "['1984', '13', '1000']"
      ]
     },
     "execution_count": 79,
     "metadata": {},
     "output_type": "execute_result"
    }
   ],
   "source": [
    "test_str = 'In 1984 there were 13 instances of a protest with over 1000 people attending'\n",
    "\n",
    "a = [i for i in test_str.split() if i.isdigit() == True]\n",
    "a"
   ]
  },
  {
   "cell_type": "code",
   "execution_count": null,
   "metadata": {},
   "outputs": [],
   "source": []
  }
 ],
 "metadata": {
  "kernelspec": {
   "display_name": "Python 3",
   "language": "python",
   "name": "python3"
  },
  "language_info": {
   "codemirror_mode": {
    "name": "ipython",
    "version": 3
   },
   "file_extension": ".py",
   "mimetype": "text/x-python",
   "name": "python",
   "nbconvert_exporter": "python",
   "pygments_lexer": "ipython3",
   "version": "3.7.6"
  }
 },
 "nbformat": 4,
 "nbformat_minor": 4
}
