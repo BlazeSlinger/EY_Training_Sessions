{
 "cells": [
  {
   "cell_type": "code",
   "execution_count": 2,
   "metadata": {},
   "outputs": [
    {
     "name": "stdout",
     "output_type": "stream",
     "text": [
      "{'harshit': 2.3, 'rohit': 13390.0, 'tushar': 13390.0, 'poojan': 21645.0, 'shweta': 11770.0, 'rashi': 20790.0, 'tanya': 21000.0, 'meenal': 24205.0, 'rakesh': 20811.5, 'mahesh': 9360.0}\n"
     ]
    }
   ],
   "source": [
    "emp = ['harshit','rohit','tushar','poojan','shweta','rashi','tanya','meenal','rakesh','mahesh']\n",
    "sal = (10000,13000,13000,18500,11000,19800,20000,23500,19450,8000)\n",
    "rat = (2.3,4.7,4.3,9.9,8.4,6.1,6.1,4,8.8,9.3)\n",
    "emp_dictionary = dict()\n",
    "new_sal = []\n",
    "for i in range(len(emp)):\n",
    "    if rat[i] >= 9:\n",
    "        inc = sal[i] + (sal[i]*.07) + (sal[i]*.1)\n",
    "        new_sal.append(inc)\n",
    "    elif rat[i] < 9 and rat[i] >=7:\n",
    "        inc = sal[i] + (sal[i]*.07)\n",
    "        new_sal.append(inc)\n",
    "    elif rat[i] < 7 and rat[i] >=5:\n",
    "        inc = sal[i] + (sal[i]*.05)\n",
    "        new_sal.append(inc)\n",
    "    elif rat[i] < 5 and rat[i] >=3:\n",
    "        inc = sal[i] + (sal[i]*.03)\n",
    "        new_sal.append(inc)\n",
    "    elif rat[i] < 3:\n",
    "        new_sal.append(sal[i])\n",
    "\n",
    "for i in range(len(emp)):        \n",
    "    emp_dictionary[emp[i]] = new_sal[i]\n",
    "print(emp_dictionary)"
   ]
  },
  {
   "cell_type": "code",
   "execution_count": null,
   "metadata": {},
   "outputs": [],
   "source": []
  }
 ],
 "metadata": {
  "kernelspec": {
   "display_name": "Python 3",
   "language": "python",
   "name": "python3"
  },
  "language_info": {
   "codemirror_mode": {
    "name": "ipython",
    "version": 3
   },
   "file_extension": ".py",
   "mimetype": "text/x-python",
   "name": "python",
   "nbconvert_exporter": "python",
   "pygments_lexer": "ipython3",
   "version": "3.7.6"
  }
 },
 "nbformat": 4,
 "nbformat_minor": 4
}
